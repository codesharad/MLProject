{
 "cells": [
  {
   "cell_type": "markdown",
   "id": "f95604de-d2c2-42f8-8cb5-9b2a8fcf5b59",
   "metadata": {},
   "source": [
    "Lasso called as L1 regularization--- used for feature selection process\n",
    "\n",
    "used as feature selection process for regression algorithms\n",
    "\n",
    "The feature which is not much related, neither much affecting the output feature\n",
    "\n",
    "jo bhi feature jyada corelated nahi hota he output se uska coeff value kam hota he\n"
   ]
  },
  {
   "cell_type": "markdown",
   "id": "0608cfaa-2fd0-414c-847e-6e8a76ab85eb",
   "metadata": {},
   "source": [
    "Ridge is used for Reducing Overfitting\n",
    "Lasso used for feature selection\n",
    "\n",
    "Ridge is called as L2 norm\n"
   ]
  },
  {
   "cell_type": "code",
   "execution_count": null,
   "id": "24787dbc-4b2b-4359-98a2-bf6465d6f0c9",
   "metadata": {},
   "outputs": [],
   "source": []
  }
 ],
 "metadata": {
  "kernelspec": {
   "display_name": "Python 3 (ipykernel)",
   "language": "python",
   "name": "python3"
  },
  "language_info": {
   "codemirror_mode": {
    "name": "ipython",
    "version": 3
   },
   "file_extension": ".py",
   "mimetype": "text/x-python",
   "name": "python",
   "nbconvert_exporter": "python",
   "pygments_lexer": "ipython3",
   "version": "3.11.4"
  }
 },
 "nbformat": 4,
 "nbformat_minor": 5
}
